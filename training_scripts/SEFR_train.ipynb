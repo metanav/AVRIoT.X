{
 "cells": [
  {
   "cell_type": "code",
   "execution_count": 1,
   "id": "cleared-least",
   "metadata": {},
   "outputs": [],
   "source": [
    "import numpy as np\n",
    "from sklearn.metrics import accuracy_score\n",
    "from sklearn.preprocessing import MinMaxScaler\n",
    "from micromlgen import port\n",
    "from sefr import SEFR"
   ]
  },
  {
   "cell_type": "code",
   "execution_count": 2,
   "id": "insured-white",
   "metadata": {},
   "outputs": [],
   "source": [
    "trainX = np.load('./data/SisFall_modified/features/train/ei-fall_detection-flatten-X.npy') \n",
    "trainy = np.load('./data/SisFall_modified/features/train/ei-fall_detection-flatten-y.npy')\n",
    "trainy = trainy[:,0] - 1 # SEFR expects 0 and 1 binary labels\n",
    "testX  = np.load('./data/SisFall_modified/features/test/ei-fall_detection-flatten-X.npy') \n",
    "testy  = np.load('./data/SisFall_modified/features/test/ei-fall_detection-flatten-y.npy')\n",
    "testy  = testy[:,0] - 1"
   ]
  },
  {
   "cell_type": "code",
   "execution_count": 16,
   "id": "chronic-creativity",
   "metadata": {},
   "outputs": [
    {
     "name": "stdout",
     "output_type": "stream",
     "text": [
      "trainX: (13985, 12), trainy: (13985,)\n",
      "testX: (3093, 12), test6y: (3093,)\n"
     ]
    },
    {
     "data": {
      "text/plain": [
       "115.28641"
      ]
     },
     "execution_count": 16,
     "metadata": {},
     "output_type": "execute_result"
    }
   ],
   "source": [
    "print('trainX: {}, trainy: {}'.format(trainX.shape, trainy.shape))\n",
    "print('testX: {}, test6y: {}'.format(testX.shape, testy.shape))\n",
    "np.max(trainX)"
   ]
  },
  {
   "cell_type": "code",
   "execution_count": 11,
   "id": "integrated-promise",
   "metadata": {},
   "outputs": [
    {
     "data": {
      "text/plain": [
       "(array([ 3.790197  ,  1.9355397 ,  1.147729  ,  0.30515647,  5.11858   ,\n",
       "         1.6024076 , -0.64939004,  0.18485095,  6.7262387 ,  1.3547276 ,\n",
       "        -1.4054649 ,  1.4726241 ], dtype=float32),\n",
       " array([0.18171707, 0.09385227, 0.5436291 , 0.01784708, 0.19999544,\n",
       "        0.0669467 , 0.47312963, 0.02145879, 0.34709162, 0.07201811,\n",
       "        0.44945836, 0.03962006], dtype=float32))"
      ]
     },
     "execution_count": 11,
     "metadata": {},
     "output_type": "execute_result"
    }
   ],
   "source": [
    "min_max_scaler = MinMaxScaler()\n",
    "min_max_scaler.fit(trainX)\n",
    "\n",
    "trainX_n = min_max_scaler.transform(trainX)\n",
    "testX_n = min_max_scaler.transform(testX)\n",
    "trainX[1], trainX_n[1]"
   ]
  },
  {
   "cell_type": "code",
   "execution_count": 8,
   "id": "competent-employer",
   "metadata": {},
   "outputs": [
    {
     "data": {
      "text/plain": [
       "array([ 20.563904,  20.22484 ,  10.65187 , 115.28641 ,  25.33499 ,\n",
       "        23.21588 ,   8.645585,  92.44442 ,  19.243101,  17.982597,\n",
       "         7.243396,  83.07158 ], dtype=float32)"
      ]
     },
     "execution_count": 8,
     "metadata": {},
     "output_type": "execute_result"
    }
   ],
   "source": [
    "np.amax(trainX, axis=0)"
   ]
  },
  {
   "cell_type": "code",
   "execution_count": 9,
   "id": "standard-death",
   "metadata": {},
   "outputs": [
    {
     "data": {
      "text/plain": [
       "array([  0.06523956,   0.04126525, -10.173604  ,  -1.7842116 ,\n",
       "         0.06462117,   0.05163805,  -8.996278  ,  -1.838343  ,\n",
       "         0.07216922,   0.06428464,  -8.466334  ,  -1.8937062 ],\n",
       "      dtype=float32)"
      ]
     },
     "execution_count": 9,
     "metadata": {},
     "output_type": "execute_result"
    }
   ],
   "source": [
    "np.amin(trainX, axis=0)"
   ]
  },
  {
   "cell_type": "code",
   "execution_count": 10,
   "id": "endless-boxing",
   "metadata": {},
   "outputs": [
    {
     "data": {
      "text/plain": [
       "0.36110668876337776"
      ]
     },
     "execution_count": 10,
     "metadata": {},
     "output_type": "execute_result"
    }
   ],
   "source": [
    " (7.4674444 - 0.06523956) / (20.563904 - 0.06523956)"
   ]
  },
  {
   "cell_type": "code",
   "execution_count": 5,
   "id": "acknowledged-cedar",
   "metadata": {},
   "outputs": [
    {
     "name": "stdout",
     "output_type": "stream",
     "text": [
      "0.8900743614613643\n"
     ]
    },
    {
     "data": {
      "text/plain": [
       "'SEFR'"
      ]
     },
     "execution_count": 5,
     "metadata": {},
     "output_type": "execute_result"
    }
   ],
   "source": [
    "clf = SEFR()\n",
    "clf.fit(trainX_n, trainy)\n",
    "yhat = clf.predict(testX_n)\n",
    "accuracy = accuracy_score(testy, yhat)\n",
    "print(accuracy)"
   ]
  },
  {
   "cell_type": "code",
   "execution_count": null,
   "id": "computational-monster",
   "metadata": {},
   "outputs": [],
   "source": [
    "# port the model into C code\n",
    "with open(\"SEFR.h\", \"w\") as f:\n",
    "    f.write(port(clf))"
   ]
  },
  {
   "cell_type": "code",
   "execution_count": null,
   "id": "earlier-timing",
   "metadata": {},
   "outputs": [],
   "source": [
    "', '.join(map(str, testX[783])), testy[783]"
   ]
  },
  {
   "cell_type": "code",
   "execution_count": null,
   "id": "relative-compensation",
   "metadata": {},
   "outputs": [],
   "source": [
    "', '.join(map(lambda f: '{:0.2f}'.format(f), np.random.random_sample((384,))))"
   ]
  },
  {
   "cell_type": "code",
   "execution_count": null,
   "id": "copyrighted-remark",
   "metadata": {},
   "outputs": [],
   "source": [
    "data = [10.3465, 2.5675, 0.8814, 10.8446, 2.2992, 1.3029, 11.4195, 1.8394, 1.6861, 11.8027, 1.2263, 1.3795, 11.6111, 0.8430, 0.6898, 11.3045, 0.8430, 0.1150, 11.0746, 1.3412, 0.0766, 10.8446, 1.6861, 0.3449, 10.9979, 1.1496, 0.3832, 10.5381, 1.3412, 0.3066, 10.3465, 1.2263, 0.2299, 10.1166, 1.0346, 0.2299, 10.0782, 0.4982, 0.5748, 10.1932, 0.3066, 0.6898, 9.9633, 0.5365, 0.7281, 10.1932, 0.7664, 1.0346, 10.1932, 0.4215, 1.3412, 10.4998, 0.0383, 1.3795, 10.1166, -0.1533, 1.4179, 10.1166, 0.0000, 1.4945, 10.1932, 0.0000, 1.3795, 10.3465, 0.3832, 1.5711, 10.2698, 0.6131, 1.3412, 10.2315, 0.6131, 1.3412, 10.0399, 0.0383, 1.8011, 9.6950, -0.3066, 2.2226, 9.5418, -0.7281, 2.6058, 9.5418, -1.2263, 2.7591, 9.6184, -0.9963, 2.4142, 9.8866, -0.7281, 2.2226, 10.1166, -0.8047, 2.1459, 10.3465, -0.9197, 1.9160, 9.8483, -1.0346, 1.9160, 9.3885, -1.4562, 2.4142, 8.8520, -1.7244, 3.1806, 8.6987, -1.9927, 3.4105, 8.2389, -1.9543, 3.5638, 8.2389, -2.1459, 3.6787, 8.3155, -1.7627, 3.8320, 8.5454, -2.1843, 3.5255, 8.8137, -2.2226, 3.8320, 8.8903, -2.2226, 3.7554, 8.9670, -2.1843, 3.6787, 8.8520, -1.9160, 3.6787, 8.7754, -1.9927, 3.6787, 8.8903, -1.9543, 3.6021, 8.6987, -2.4525, 3.6787, 8.6604, -2.7591, 3.8320, 8.6604, -2.8740, 4.0236, 8.6987, -3.0273, 3.6787, 8.8903, -3.1039, 3.6404, 8.7754, -2.9507, 3.6404, 8.7754, -3.0273, 3.8704, 8.6221, -3.1423, 4.1386, 8.4305, -3.2572, 4.0236, 8.0473, -3.6404, 4.5601, 8.1239, -4.1003, 4.7134, 8.6987, -4.0620, 4.1769, 8.0856, -4.1003, 4.4068, 8.1622, -3.9470, 4.4835, 8.1239, -3.8320, 4.4452, 7.4341, -3.6787, 4.5601, 8.0473, -3.8704, 4.5601, 7.6641, -4.2152, 4.3685, 7.8557, -4.2536, 4.4068, 7.4725, -4.2536, 4.5984, 7.7024, -3.7171, 4.4452, 7.9323, -3.2955, 4.5218, 8.0089, -2.7974, 4.7900, 8.0856, -3.0656, 5.3648, 8.0089, -3.4105, 5.6714, 7.7790, -3.8704, 5.7864, 7.3958, -4.0236, 5.5564, 6.8593, -3.7937, 5.2882, 6.4378, -3.4105, 5.3648, 6.3229, -3.1423, 5.6331, 6.2462, -2.6441, 5.8247, 6.2845, -2.3375, 5.5564, 6.3612, -2.5291, 5.3648, 6.2462, -2.9123, 5.3265, 5.8247, -3.2572, 5.7864, 5.1732, -3.5255, 6.0546, 5.0583, -3.5255, 6.3612, 5.0583, -3.6404, 6.4378, 5.3265, -3.1423, 5.4798, 5.9396, -3.1806, 4.5218, 5.3648, -3.4871, 5.4415, 5.5564, -3.8320, 7.0893, 4.9816, -3.7937, 7.5108, 5.0200, -3.7171, 7.4341, 5.1732, -3.7554, 7.0893, 4.7900, -3.8320, 7.4341, 4.2919, -4.1386, 7.3958, 2.4525, -4.3302, 7.5491, 2.2992, -4.4835, 7.4725, 2.3375, -4.4452, 7.4341, 2.8740, -4.5218, 6.8977, 1.2263, -4.7900, 8.6987, 1.3029, -5.3265, 7.8557, 2.6824, -5.4032, 7.3575, 2.4908, -6.2845, 6.0546, 2.9890, -6.2079, 6.8593, 3.2189, -6.1313, 7.2425, 2.8740, -5.5181, 7.3192, 3.2955, -5.3265, 7.3575, 2.1459, -4.8284, 7.8173, 1.3029, -4.5601, 7.5108, 0.8047, -4.4835, 7.2809, 0.3832, -4.6751, 7.2809, 0.1533, -4.9433, 7.3575, 0.1150, -4.8284, 7.3192, 0.0766, -4.8284, 7.2425, 0.0000, -4.8667, 7.2809, 0.2299, -4.6751, 7.1659, 0.4598, -4.7900, 7.0126, 0.7281, -4.9050, 7.0893, 1.1879, -5.0966, 7.3192, 1.6861, -5.0200, 7.3958, 2.1076, -5.0200, 7.6257, 2.2226, -4.7517, 7.3958, 2.4908, -4.6751, 7.4725, 2.3375, -4.3302, 7.5108, 2.1076, -4.3302, 7.4341, 2.1076, -4.4835, 7.4725, 1.9543, -4.6751, 7.5108, 1.7244, -4.9433, 8.0473, 1.7244, -5.2882, 7.7790, 1.3795, -5.2499, 7.6257]\n",
    "data = np.array(data)\n",
    "data"
   ]
  },
  {
   "cell_type": "code",
   "execution_count": null,
   "id": "competent-voltage",
   "metadata": {},
   "outputs": [],
   "source": []
  }
 ],
 "metadata": {
  "kernelspec": {
   "display_name": "Python 3",
   "language": "python",
   "name": "python3"
  },
  "language_info": {
   "codemirror_mode": {
    "name": "ipython",
    "version": 3
   },
   "file_extension": ".py",
   "mimetype": "text/x-python",
   "name": "python",
   "nbconvert_exporter": "python",
   "pygments_lexer": "ipython3",
   "version": "3.9.0"
  }
 },
 "nbformat": 4,
 "nbformat_minor": 5
}
